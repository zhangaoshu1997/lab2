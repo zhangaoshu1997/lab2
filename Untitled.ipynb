{
 "cells": [
  {
   "cell_type": "markdown",
   "metadata": {},
   "source": [
    "# Description"
   ]
  },
  {
   "cell_type": "markdown",
   "metadata": {},
   "source": [
    "Our project starts with different entities, in this case “customers” being the people who buy the products, “pet”, “fish” and “tanks” which are available to be purchased, “food purchases” and “animal purchases which are meant to keep track of what has been sold by the pet store as well as “enclosures” to keep track of where the animals are being kept while at the store. \n",
    "\n",
    "Attributes for “Pet” include the enclosure they are kept in, what they need to be fed, how much they cost as well as how many of that particular animal exist. “Fish” has all of the same attributes, except instead of enclosure they have tank as that is where they are kept. “Enclosures” are attributed by their size, their price and how many of them exist. “Tanks” share the size and quantity attribute, but also happen to have water type for the various different fish. The attributes for “customers” include their rewards number for a certain amount of purchases, their email so we can keep track of and send them rewards as well as their purchase history so we know how to advertise to them through email as well as send rewards. In a similar vein, “Food purchases” and “Animal purchases” share the attributes of customer ID so we know who bought them, the date so we know when they were bought and the price so we can determine how much was earned as well as the type of item purchased so we can see what sells more. \n",
    "\n",
    "The primary key for “customers” is their “customer ID” which allows the store to track their other purchases and serves as the primary key for “customers” yet under “food purchases” and “animal purchases” it is the foreign key as it provides a link between these two data tables. In regards to “tanks” the primary key is the “tank ID” which is used under the entity “fish” as the foreign key as it links the individual fish to the tank they will be placed in. Similarly, when looking at “enclosures”, “enclosure ID” determines where each individual pet will be stored. Primary keys for the entities “food purchases” and “animal purchases” are “unique ID” and “Purchase #” respectively and they aim to identify which particular goods have been sold. “Pet” and “Fish” primary key, “Type” simply establishes what kind of animal they are. \n",
    "\n",
    "The connectivity between “Pet” and “Enclosure” is a 1 to 1 ratio, just like how it is between “Fish” and “Tanks” seeing as there is only one animal in its specified living space. The cardinality between “animal purchases” and “food purchases” to “customer ID” is that those entities stem from how much a customer buys which is being kept track of on their ID. \n"
   ]
  },
  {
   "cell_type": "code",
   "execution_count": 2,
   "metadata": {},
   "outputs": [
    {
     "ename": "SyntaxError",
     "evalue": "invalid syntax (<ipython-input-2-51afa11bff09>, line 1)",
     "output_type": "error",
     "traceback": [
      "\u001b[1;36m  File \u001b[1;32m\"<ipython-input-2-51afa11bff09>\"\u001b[1;36m, line \u001b[1;32m1\u001b[0m\n\u001b[1;33m    <img src=\"ER.png\">\u001b[0m\n\u001b[1;37m    ^\u001b[0m\n\u001b[1;31mSyntaxError\u001b[0m\u001b[1;31m:\u001b[0m invalid syntax\n"
     ]
    }
   ],
   "source": [
    "<img src=\"ER.png\">"
   ]
  },
  {
   "cell_type": "code",
   "execution_count": null,
   "metadata": {},
   "outputs": [],
   "source": []
  }
 ],
 "metadata": {
  "kernelspec": {
   "display_name": "Python 3",
   "language": "python",
   "name": "python3"
  },
  "language_info": {
   "codemirror_mode": {
    "name": "ipython",
    "version": 3
   },
   "file_extension": ".py",
   "mimetype": "text/x-python",
   "name": "python",
   "nbconvert_exporter": "python",
   "pygments_lexer": "ipython3",
   "version": "3.7.3"
  }
 },
 "nbformat": 4,
 "nbformat_minor": 2
}
